{
 "cells": [
  {
   "cell_type": "code",
   "execution_count": 2,
   "metadata": {},
   "outputs": [
    {
     "name": "stdout",
     "output_type": "stream",
     "text": [
      "{'first_name': 'Hamza', 'last_name': 'Riaz', 'age': 22, 'city': 'Karachi'}\n",
      "{'first_name': 'Hamza', 'last_name': 'Riaz', 'age': 22, 'city': 'Karachi', 'qualification': 'B.Com'}\n",
      "{'first_name': 'Hamza', 'last_name': 'Riaz', 'age': 22, 'city': 'Karachi', 'qualification': 'BBA'}\n",
      "{'first_name': 'Hamza', 'last_name': 'Riaz', 'age': 22, 'city': 'Karachi'}\n"
     ]
    }
   ],
   "source": [
    "#Question No.1\n",
    "#Use a dictionary to store information about a person you know. Store their first name,\n",
    "#last name, age, and the city in which they live. You should have keys such as first_name,\n",
    "#last_name, age, and city. Print each piece of information stored in your dictionary.\n",
    "#Add a new key value pair about qualification then update the qualification value to high academic level then delete it.\n",
    "\n",
    "person={\"first_name\" : \"Hamza\", \"last_name\" : \"Riaz\", \"age\" : 22, \"city\" : \"Karachi\"}\n",
    "print(person)\n",
    "\n",
    "person[\"qualification\"] = \"B.Com\"\n",
    "print(person)\n",
    "\n",
    "person[\"qualification\"] = \"BBA\"\n",
    "print(person)\n",
    "\n",
    "del person[\"qualification\"]\n",
    "print(person)"
   ]
  },
  {
   "cell_type": "code",
   "execution_count": null,
   "metadata": {},
   "outputs": [
    {
     "name": "stdout",
     "output_type": "stream",
     "text": [
      "How old are you?1\n",
      "  You get in free!\n",
      "How old are you?4\n",
      "  Your ticket is $10.\n",
      "How old are you?6\n",
      "  Your ticket is $10.\n",
      "How old are you?112\n",
      "  Your ticket is $15.\n"
     ]
    }
   ],
   "source": [
    "#Question No:2\n",
    "#Make a dictionary called cities. Use the names of three cities as keys in your dictionary.\n",
    "#Create a dictionary of information about each city and include the country that the city is in,\n",
    "#its approximate population, and one fact about that city. The keys for each city’s dictionary \n",
    "#should be something like country, population, and fact. Print the name of each city and all of \n",
    "#the information you have stored about it.\n",
    "\n",
    "prompt = \"How old are you?\"\n",
    "\n",
    "while True:\n",
    "    age = input(prompt)\n",
    "    age = int(age)\n",
    "\n",
    "    if age < 3:\n",
    "        print(\"  You get in free!\")\n",
    "    elif age < 13:\n",
    "        print(\"  Your ticket is $10.\")\n",
    "    else:\n",
    "        print(\"  Your ticket is $15.\")"
   ]
  },
  {
   "cell_type": "code",
   "execution_count": 2,
   "metadata": {},
   "outputs": [
    {
     "name": "stdout",
     "output_type": "stream",
     "text": [
      "Think and grow rich is one of my favorite books.\n"
     ]
    }
   ],
   "source": [
    "#Question No:3\n",
    "#Write a function called favorite_book() that accepts one parameter, title.\n",
    "#The function should print a message, such as One of my favorite books is Alice in Wonderland.\n",
    "#Call the function, making sure to include a book title as an argument in the function call.\n",
    "\n",
    "def favorite_book(title):\n",
    "    \n",
    "    print(title + \" is one of my favorite books.\")\n",
    "\n",
    "favorite_book('Think and grow rich')"
   ]
  },
  {
   "cell_type": "code",
   "execution_count": null,
   "metadata": {},
   "outputs": [],
   "source": []
  },
  {
   "cell_type": "code",
   "execution_count": null,
   "metadata": {},
   "outputs": [],
   "source": []
  }
 ],
 "metadata": {
  "kernelspec": {
   "display_name": "Python 3",
   "language": "python",
   "name": "python3"
  },
  "language_info": {
   "codemirror_mode": {
    "name": "ipython",
    "version": 3
   },
   "file_extension": ".py",
   "mimetype": "text/x-python",
   "name": "python",
   "nbconvert_exporter": "python",
   "pygments_lexer": "ipython3",
   "version": "3.7.4"
  }
 },
 "nbformat": 4,
 "nbformat_minor": 2
}
