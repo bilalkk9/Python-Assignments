{
 "cells": [
  {
   "cell_type": "code",
   "execution_count": 5,
   "metadata": {},
   "outputs": [
    {
     "name": "stdout",
     "output_type": "stream",
     "text": [
      "Input a number to compute the factiorial : 7\n",
      "5040\n"
     ]
    }
   ],
   "source": [
    "#Q.No:01\n",
    "#Write a Python function to calculate the factorial of a number (a non-negative integer).\n",
    "#The function accepts the number as an argument\n",
    "\n",
    "def factorial(num):\n",
    "    if num == 0:\n",
    "        return 1\n",
    "    else:\n",
    "        return num * factorial(num-1)\n",
    "num=int(input(\"Input any number : \"))\n",
    "print(factorial(num))"
   ]
  },
  {
   "cell_type": "code",
   "execution_count": 10,
   "metadata": {},
   "outputs": [
    {
     "name": "stdout",
     "output_type": "stream",
     "text": [
      "enter string: My NAME is bilaL\n",
      "Original String :  My NAME is bilaL\n",
      "No. of Upper case characters :  6\n",
      "No. of Lower case Characters :  7\n"
     ]
    }
   ],
   "source": [
    "#Q.No:02\n",
    "#Write a Python function that accepts a string and calculate the number of upper case letters and lower case letters.\n",
    "\n",
    "def string_test(cases):\n",
    "    \n",
    "    d={\"Upper_Case\":0, \"Lower_Case\":0}\n",
    "    \n",
    "    for case in cases:\n",
    "        if case.isupper():\n",
    "           d[\"Upper_Case\"]+=1\n",
    "        elif case.islower():\n",
    "           d[\"Lower_Case\"]+=1\n",
    "        \n",
    "    print (\"Original String : \", cases)\n",
    "    print (\"No. of Upper case characters : \", d[\"Upper_Case\"])\n",
    "    print (\"No. of Lower case Characters : \", d[\"Lower_Case\"])\n",
    "\n",
    "string_test(input(\"enter string: \"))\n"
   ]
  },
  {
   "cell_type": "code",
   "execution_count": 21,
   "metadata": {},
   "outputs": [
    {
     "name": "stdout",
     "output_type": "stream",
     "text": [
      "4\n",
      "42\n",
      "64\n",
      "92\n"
     ]
    }
   ],
   "source": [
    "#Q.No:03\n",
    "#Write a Python function to print the even numbers from a given list. \n",
    "\n",
    "num_list = [1, 221, 4, 42, 64, 92, 89] \n",
    "\n",
    "for even_num in num_list: \n",
    "\n",
    "    if even_num % 2 == 0: \n",
    "\n",
    "        print(even_num) \n"
   ]
  },
  {
   "cell_type": "code",
   "execution_count": 34,
   "metadata": {},
   "outputs": [
    {
     "name": "stdout",
     "output_type": "stream",
     "text": [
      "Enter any word: madam\n",
      "Yes it is palindrome\n"
     ]
    }
   ],
   "source": [
    "#Q.No:04\n",
    "#Write a Python function that checks whether a passed string is palindrome or not. \n",
    "def reverse(s): \n",
    "    return s[::-1] \n",
    "\n",
    "def isPalindrome(s): \n",
    "    rev = reverse(s) \n",
    "\n",
    "    if (s == rev): \n",
    "        return True\n",
    "    return False\n",
    "\n",
    "\n",
    "s = input(\"Enter any word: \")\n",
    "ans = isPalindrome(s) \n",
    "\n",
    "if ans == 1: \n",
    "    print(\"Yes it is palindrome\") \n",
    "else: \n",
    "    print(\"No it is not.\") \n"
   ]
  },
  {
   "cell_type": "code",
   "execution_count": 31,
   "metadata": {},
   "outputs": [
    {
     "name": "stdout",
     "output_type": "stream",
     "text": [
      "True\n"
     ]
    }
   ],
   "source": [
    "#Q.No:05\n",
    "#Write a Python function that takes a number as a parameter and check the number is prime or not.\n",
    "def test_prime(num):\n",
    "    \n",
    "    if (num==1):\n",
    "        return False\n",
    "    elif (num==2):\n",
    "        return True;\n",
    "    else:\n",
    "        for x in range(2,num):\n",
    "            if(num % x==0):\n",
    "                return False\n",
    "        return True \n",
    "    \n",
    "print(test_prime(2))\n"
   ]
  },
  {
   "cell_type": "code",
   "execution_count": 41,
   "metadata": {},
   "outputs": [
    {
     "name": "stdout",
     "output_type": "stream",
     "text": [
      "Customer Name:\n",
      "Ali\n",
      "\n",
      "Products: \n",
      "Soap\n",
      "Oil\n",
      "Bread\n",
      "Milk\n",
      "Butter\n",
      "Egg\n"
     ]
    }
   ],
   "source": [
    "#Q.No:06\n",
    "#Suppose a customer is shopping in a market and you need to print all the items which user bought from market. \n",
    "\n",
    "def customer(name,*products):\n",
    "    print(\"Customer Name:\\n\"+ name+\"\\n\\nProducts: \")\n",
    "    for product in products:\n",
    "        print(product)\n",
    "        \n",
    "customer(\"Ali\",\"Soap\",\"Oil\",\"Bread\",\"Milk\",\"Butter\",\"Egg\")\n",
    "    \n",
    "    "
   ]
  },
  {
   "cell_type": "code",
   "execution_count": null,
   "metadata": {},
   "outputs": [],
   "source": []
  }
 ],
 "metadata": {
  "kernelspec": {
   "display_name": "Python 3",
   "language": "python",
   "name": "python3"
  },
  "language_info": {
   "codemirror_mode": {
    "name": "ipython",
    "version": 3
   },
   "file_extension": ".py",
   "mimetype": "text/x-python",
   "name": "python",
   "nbconvert_exporter": "python",
   "pygments_lexer": "ipython3",
   "version": "3.7.4"
  }
 },
 "nbformat": 4,
 "nbformat_minor": 2
}
