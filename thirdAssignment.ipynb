{
 "cells": [
  {
   "cell_type": "code",
   "execution_count": null,
   "metadata": {},
   "outputs": [],
   "source": [
    "#Make a calculator using Python with addition , subtraction , multiplication , division and power\n",
    "\n",
    "val1=int(input(\"Enter first value: \"))\n",
    "operator=input(\"Enter operator: \")\n",
    "val2=int(input(\"Enter second value: \"))\n",
    "x=pow(val1,val2)\n",
    "\n",
    "if operator=='+':\n",
    "    print(val1+val2,\"answer\")\n",
    "    \n",
    "elif operator=='-':\n",
    "    print(val1-val2,\"answer\")\n",
    "    \n",
    "elif operator=='*':\n",
    "    print(val1*val2,\"answer\")\n",
    "    \n",
    "elif operator=='/':\n",
    "    print(val1/val2,\"answer\")\n",
    "    \n",
    "elif operator=='power':\n",
    "    print(val1 ** val2,\"answer\")\n",
    "    \n",
    "else:\n",
    "    print(\"Enter correct operator\")"
   ]
  },
  {
   "cell_type": "code",
   "execution_count": null,
   "metadata": {},
   "outputs": [],
   "source": [
    "# Write a program to check if there is any numeric value in list using for loop \n",
    "test_list = [ 1, 'bilal', 9, 'asad', 3, 4 ] \n",
    "  \n",
    "print(\"Checking if 4 exists in list ( using loop ) : \") \n",
    "  \n",
    "# Checking if 4 exists in list  \n",
    "# using loop \n",
    "for i in test_list: \n",
    "    if(i == 4) : \n",
    "        print (\"Element Exists\") \n"
   ]
  },
  {
   "cell_type": "code",
   "execution_count": null,
   "metadata": {},
   "outputs": [],
   "source": [
    "#Write a Python script to add a key to a dictionary\n",
    "dict = {\"Name\":\"Ali\", \"Age\":20}\n",
    "print(dict)\n",
    "dict.update({\"Address\":\"Karachi\"})\n",
    "print(dict)"
   ]
  },
  {
   "cell_type": "code",
   "execution_count": null,
   "metadata": {},
   "outputs": [],
   "source": [
    "#Write a Python program to sum all the numeric items in a dictionary\n",
    "my_dict = {'val1':10,'val2':34,'val3':47}\n",
    "print(sum(my_dict.values()))"
   ]
  },
  {
   "cell_type": "code",
   "execution_count": null,
   "metadata": {},
   "outputs": [],
   "source": [
    "#Write a program to identify duplicate values from list \n",
    "def Repeat(x): \n",
    "_size = len(x) \n",
    "repeated = [] \n",
    "for i in range(_size): \n",
    "k = i + 1\n",
    "for j in range(k, _size): \n",
    "if x[i] == x[j] and x[i] not in repeated: \n",
    "repeated.append(x[i]) \n",
    "return repeated \n",
    "\n",
    "list1 = [10, 20, 30, 20, 20, 30, 40, 50, -20, 60, 60, -20, -20] \n",
    "print (Repeat(list1)) \n"
   ]
  },
  {
   "cell_type": "code",
   "execution_count": null,
   "metadata": {},
   "outputs": [],
   "source": [
    "#Write a Python script to check if a given key already exists in a dictionary  \n",
    "dictionary = {1: 10, 2: 20, 3: 30, 4: 40, 5: 50, 6: 60}\n",
    "def is_key_present(x):\n",
    "    if x in dictionary:\n",
    "        print('Key is present in the dictionary')\n",
    "    else:\n",
    "        print('Key is not present in the dictionary')\n",
    "        \n",
    "is_key_present(11)"
   ]
  },
  {
   "cell_type": "code",
   "execution_count": null,
   "metadata": {},
   "outputs": [],
   "source": []
  }
 ],
 "metadata": {
  "kernelspec": {
   "display_name": "Python 3",
   "language": "python",
   "name": "python3"
  },
  "language_info": {
   "codemirror_mode": {
    "name": "ipython",
    "version": 3
   },
   "file_extension": ".py",
   "mimetype": "text/x-python",
   "name": "python",
   "nbconvert_exporter": "python",
   "pygments_lexer": "ipython3",
   "version": "3.7.4"
  }
 },
 "nbformat": 4,
 "nbformat_minor": 2
}
