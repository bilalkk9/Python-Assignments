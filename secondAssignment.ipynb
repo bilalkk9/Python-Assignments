{
 "cells": [
  {
   "cell_type": "code",
   "execution_count": 5,
   "metadata": {},
   "outputs": [
    {
     "name": "stdout",
     "output_type": "stream",
     "text": [
      "Enter a number: 3\n",
      "This is an odd number.\n"
     ]
    }
   ],
   "source": [
    "#Write a program which take input from user and identify that the given number is even or odd?\n",
    "number = int(input(\"Enter any number: \"))\n",
    "mod = number % 2\n",
    "if mod > 0:\n",
    "    print(\"This is an odd number.\")\n",
    "else:\n",
    "    print(\"This is an even number.\")"
   ]
  },
  {
   "cell_type": "code",
   "execution_count": 11,
   "metadata": {},
   "outputs": [
    {
     "name": "stdout",
     "output_type": "stream",
     "text": [
      "Length of list is : 6\n"
     ]
    }
   ],
   "source": [
    "#Write a program which print the length of the list? \n",
    "test_list = [ 1, 4, 5, 7, 8 ,9] \n",
    "counter = 0\n",
    "for i in test_list: \n",
    "\n",
    " counter = counter + 1\n",
    "\n",
    "print (\"Length of list is : \" + str(counter)) \n"
   ]
  },
  {
   "cell_type": "code",
   "execution_count": 12,
   "metadata": {},
   "outputs": [
    {
     "name": "stdout",
     "output_type": "stream",
     "text": [
      "20\n"
     ]
    }
   ],
   "source": [
    "#Write a Python program to sum all the numeric items in a list? \n",
    "def sum(numbers):\n",
    "    total = 0\n",
    "    for x in numbers:\n",
    "        total += x\n",
    "    return total\n",
    "print(sum((8, 2, 3, 0, 7)))"
   ]
  },
  {
   "cell_type": "code",
   "execution_count": null,
   "metadata": {},
   "outputs": [],
   "source": [
    "#Write a Python program to get the largest number from a numeric list.\n",
    "\n",
    "list1 = [10, 20, 4, 45, 99,101] \n",
    "\n",
    "list1.sort() \n",
    "\n",
    "print(\"Largest element is:\", list1[-1]) \n"
   ]
  },
  {
   "cell_type": "code",
   "execution_count": null,
   "metadata": {},
   "outputs": [],
   "source": [
    "# Write a program which takes 5 inputs from user for different subject’s marks, total it and generate mark sheet using grades \n",
    "\n",
    "Maths=int(input(\"Enter Maths marks: \"))\n",
    "English=int(input(\"Enter English marks: \"))\n",
    "Urdu=int(input(\"Enter Urdu marks: \"))\n",
    "Science=int(input(\"Enter Science marks: \"))\n",
    "Islamiat=int(input(\"Enter Islamiat marks: \"))\n",
    "\n",
    "Avg=(Maths+English+Urdu+Science+Islamiat)/5\n",
    "\n",
    "if Avg >= 80:\n",
    "    print(\"You have scored A+ grade\")\n",
    "    \n",
    "elif Avg >= 70:\n",
    "    print(\"You have scored A grade\")\n",
    "    \n",
    "elif Avg >=60:\n",
    "    print(\"You have scored B grade\")\n",
    "    \n",
    "elif Avg >=50:\n",
    "    print(\"You have scored A grade\")\n",
    "    \n",
    "else:\n",
    "    print(\"You are fail\")"
   ]
  },
  {
   "cell_type": "code",
   "execution_count": null,
   "metadata": {},
   "outputs": [],
   "source": [
    "#Take a list, say for example this one: \n",
    " #  a = [1, 1, 2, 3, 5, 8, 13, 21, 34, 55, 89] \n",
    "#and write a program that prints out all the elements of the list that are less than 5.\n",
    "\n",
    "\n",
    "a = [1, 1, 2, 3, 5, 8, 13, 21, 34, 55, 89]\n",
    "\n",
    "for i in a:\n",
    "\n",
    "    if i < 5:\n",
    "\n",
    "        print(i)"
   ]
  },
  {
   "cell_type": "code",
   "execution_count": null,
   "metadata": {},
   "outputs": [],
   "source": []
  }
 ],
 "metadata": {
  "kernelspec": {
   "display_name": "Python 3",
   "language": "python",
   "name": "python3"
  },
  "language_info": {
   "codemirror_mode": {
    "name": "ipython",
    "version": 3
   },
   "file_extension": ".py",
   "mimetype": "text/x-python",
   "name": "python",
   "nbconvert_exporter": "python",
   "pygments_lexer": "ipython3",
   "version": "3.7.4"
  }
 },
 "nbformat": 4,
 "nbformat_minor": 2
}
