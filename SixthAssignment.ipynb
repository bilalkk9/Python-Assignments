{
 "cells": [
  {
   "cell_type": "code",
   "execution_count": 1,
   "metadata": {},
   "outputs": [
    {
     "ename": "SyntaxError",
     "evalue": "invalid syntax (<ipython-input-1-691b07cb8a27>, line 4)",
     "output_type": "error",
     "traceback": [
      "\u001b[1;36m  File \u001b[1;32m\"<ipython-input-1-691b07cb8a27>\"\u001b[1;36m, line \u001b[1;32m4\u001b[0m\n\u001b[1;33m    Object-oriented programming is a programming paradigm based on the concept of \"objects\",\u001b[0m\n\u001b[1;37m                              ^\u001b[0m\n\u001b[1;31mSyntaxError\u001b[0m\u001b[1;31m:\u001b[0m invalid syntax\n"
     ]
    }
   ],
   "source": [
    "#Q.No:1\n",
    "#Define Object Oriented Programming Language? \n",
    "\n",
    "Object-oriented programming is a programming paradigm based on the concept of \"objects\",\n",
    "which can contain data, in the form of fields, and code, in the form of procedures.\n",
    "A feature of objects is an object's procedures that can access and often modify the data fields of\n",
    "the object with which they are associated."
   ]
  },
  {
   "cell_type": "code",
   "execution_count": 2,
   "metadata": {},
   "outputs": [
    {
     "ename": "SyntaxError",
     "evalue": "invalid syntax (<ipython-input-2-d0aa54ee8d5f>, line 4)",
     "output_type": "error",
     "traceback": [
      "\u001b[1;36m  File \u001b[1;32m\"<ipython-input-2-d0aa54ee8d5f>\"\u001b[1;36m, line \u001b[1;32m4\u001b[0m\n\u001b[1;33m    The advantages of object-oriented programming lie in this kind of encapsulation.\u001b[0m\n\u001b[1;37m                 ^\u001b[0m\n\u001b[1;31mSyntaxError\u001b[0m\u001b[1;31m:\u001b[0m invalid syntax\n"
     ]
    }
   ],
   "source": [
    "#Q.No:2\n",
    "#List down the Benefits of OOP?\n",
    "\n",
    "The advantages of object-oriented programming lie in this kind of encapsulation.\n",
    "Here’s a detailed look at some of OOP’s top benefits:\n",
    "1. Modularity for easier troubleshooting\n",
    "2. Reuse of code through inheritance\n",
    "3. Flexibility through polymorphism\n",
    "4. Effective problem solving"
   ]
  },
  {
   "cell_type": "code",
   "execution_count": 4,
   "metadata": {},
   "outputs": [
    {
     "ename": "IndentationError",
     "evalue": "unindent does not match any outer indentation level (<tokenize>, line 11)",
     "output_type": "error",
     "traceback": [
      "\u001b[1;36m  File \u001b[1;32m\"<tokenize>\"\u001b[1;36m, line \u001b[1;32m11\u001b[0m\n\u001b[1;33m    1. A method is implicitly passed the object on which it was called.\u001b[0m\n\u001b[1;37m    ^\u001b[0m\n\u001b[1;31mIndentationError\u001b[0m\u001b[1;31m:\u001b[0m unindent does not match any outer indentation level\n"
     ]
    }
   ],
   "source": [
    "#Q.No:3\n",
    "#Differentiate between function and method?\n",
    "\n",
    "Function:\n",
    "    A function is a piece of code that is called by name. It can be passed data to operate on (i.e. the parameters)\n",
    "    and can optionally return data (the return value). All data that is passed to a function is explicitly passed.\n",
    "Method:\n",
    "    A method is a piece of code that is called by a name that is associated with an object.\n",
    "    In most respects it is identical to a function except for two key differences:\n",
    "\n",
    "   1. A method is implicitly passed the object on which it was called.\n",
    "    \n",
    "   2. A method is able to operate on data that is contained within the class\n",
    "    (remembering that an object is an instance of a class - the class is the definition, \n",
    "     the object is an instance of that data)."
   ]
  },
  {
   "cell_type": "code",
   "execution_count": 5,
   "metadata": {},
   "outputs": [
    {
     "ename": "SyntaxError",
     "evalue": "invalid syntax (<ipython-input-5-de45cbea7055>, line 4)",
     "output_type": "error",
     "traceback": [
      "\u001b[1;36m  File \u001b[1;32m\"<ipython-input-5-de45cbea7055>\"\u001b[1;36m, line \u001b[1;32m4\u001b[0m\n\u001b[1;33m    Class:\u001b[0m\n\u001b[1;37m          ^\u001b[0m\n\u001b[1;31mSyntaxError\u001b[0m\u001b[1;31m:\u001b[0m invalid syntax\n"
     ]
    }
   ],
   "source": [
    "#Q.No:4\n",
    "#Define the following terms: \n",
    "\n",
    "Class:\n",
    "    An “Object” is the key component of Object-oriented programming.\n",
    "    An Object may contain data (fields or variables) or code (methods or procedures).\n",
    "    The creation of these objects is based on a programmer-defined blue-print also known as a Class.\n",
    "Object:\n",
    "    In object-oriented programming (OOP), objects are the things you think about first\n",
    "    in designing a program and they are also the units of code that are eventually derived from the process.\n",
    "Attribute:\n",
    "    In Object-oriented programming(OOP), classes and objects have attributes.\n",
    "    Attributes are data stored inside a class or instance and represent the state\n",
    "    or quality of the class or instance. In short, attributes store information about the instance.\n",
    "Behavior:\n",
    "    The behavior of an object is defined by its methods, which are the functions and\n",
    "    subroutines defined within the object class. Without class methods, a class would simply be a structure.\n",
    "    Methods determine what type of functionality a class has, how it modifies its data, and its overall behavior."
   ]
  },
  {
   "cell_type": "code",
   "execution_count": null,
   "metadata": {},
   "outputs": [],
   "source": []
  }
 ],
 "metadata": {
  "kernelspec": {
   "display_name": "Python 3",
   "language": "python",
   "name": "python3"
  },
  "language_info": {
   "codemirror_mode": {
    "name": "ipython",
    "version": 3
   },
   "file_extension": ".py",
   "mimetype": "text/x-python",
   "name": "python",
   "nbconvert_exporter": "python",
   "pygments_lexer": "ipython3",
   "version": "3.7.4"
  }
 },
 "nbformat": 4,
 "nbformat_minor": 2
}
